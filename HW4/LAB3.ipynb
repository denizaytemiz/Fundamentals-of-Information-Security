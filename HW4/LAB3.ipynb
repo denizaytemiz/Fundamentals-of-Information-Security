{
  "nbformat": 4,
  "nbformat_minor": 0,
  "metadata": {
    "colab": {
      "name": "LAB3.ipynb",
      "provenance": [],
      "collapsed_sections": []
    },
    "kernelspec": {
      "name": "python3",
      "display_name": "Python 3"
    },
    "language_info": {
      "name": "python"
    }
  },
  "cells": [
    {
      "cell_type": "code",
      "metadata": {
        "colab": {
          "base_uri": "https://localhost:8080/"
        },
        "id": "GV7L-2SJ0DOW",
        "outputId": "7f338542-1f06-4a00-d94b-aeab296b6c27"
      },
      "source": [
        "!pip3 uninstall crypto \n",
        "!pip3 uninstall pycrypto \n",
        "!pip3 install pycryptodome"
      ],
      "execution_count": null,
      "outputs": [
        {
          "output_type": "stream",
          "name": "stdout",
          "text": [
            "\u001b[33mWARNING: Skipping crypto as it is not installed.\u001b[0m\n",
            "\u001b[33mWARNING: Skipping pycrypto as it is not installed.\u001b[0m\n",
            "Collecting pycryptodome\n",
            "  Downloading pycryptodome-3.11.0-cp35-abi3-manylinux2010_x86_64.whl (1.9 MB)\n",
            "\u001b[K     |████████████████████████████████| 1.9 MB 5.1 MB/s \n",
            "\u001b[?25hInstalling collected packages: pycryptodome\n",
            "Successfully installed pycryptodome-3.11.0\n"
          ]
        }
      ]
    },
    {
      "cell_type": "code",
      "metadata": {
        "id": "an_vGqr5zIXV"
      },
      "source": [
        "from Crypto.Util import number \n",
        "from random import getrandbits\n",
        "import time \n",
        "import binascii\n",
        "\n"
      ],
      "execution_count": null,
      "outputs": []
    },
    {
      "cell_type": "markdown",
      "metadata": {
        "id": "IwnlxvuWbVkY"
      },
      "source": [
        "##task 1"
      ]
    },
    {
      "cell_type": "code",
      "metadata": {
        "id": "FCSjt13dzozK"
      },
      "source": [
        "#given p,q and e there is a unique d that can be found with extended eucluidian algorithm\n",
        "p = 87712020782810358806012366960530480363676290880575039025592945358193408249897 \n",
        "q = 102835471351264451708400576484301274347085188629221996951152314010256656047547  \n",
        "e = 65537"
      ],
      "execution_count": null,
      "outputs": []
    },
    {
      "cell_type": "code",
      "metadata": {
        "id": "INxWx2U81YR1"
      },
      "source": [
        "##extended euclidian function gives modular inverse.\n",
        "def egcd(a, b):\n",
        "    if a == 0:\n",
        "        return (b, 0, 1)\n",
        "    g, y, x = egcd(b%a,a)\n",
        "    return (g, x - (b//a) * y, y)\n",
        "\n",
        "def modinv(a, m):\n",
        "    g, x, y = egcd(a, m)\n",
        "    if g != 1:\n",
        "        raise Exception('No modular inverse')\n",
        "    return x%m\n",
        "\n"
      ],
      "execution_count": null,
      "outputs": []
    },
    {
      "cell_type": "code",
      "metadata": {
        "id": "rRESqOgg4hk_"
      },
      "source": [
        "tic = time.perf_counter()\n",
        "d = modinv(e, (p-1)*(q-1))\n",
        "toc = time.perf_counter()"
      ],
      "execution_count": null,
      "outputs": []
    },
    {
      "cell_type": "code",
      "metadata": {
        "colab": {
          "base_uri": "https://localhost:8080/"
        },
        "id": "yvlxApMD4sbO",
        "outputId": "f8d8fcff-b0c2-4e3e-9992-90b647d814b0"
      },
      "source": [
        "print(d)\n",
        "print(d.bit_length())\n",
        "print(toc-tic)"
      ],
      "execution_count": null,
      "outputs": [
        {
          "output_type": "stream",
          "name": "stdout",
          "text": [
            "2777113439026967813870345260359839597823226328146295814538363064080293099090869828193345932139225213849393071682039628960771675474665521453093256445593377\n",
            "510\n",
            "6.079399997815926e-05\n"
          ]
        }
      ]
    },
    {
      "cell_type": "code",
      "metadata": {
        "colab": {
          "base_uri": "https://localhost:8080/"
        },
        "id": "hUenKu683-LZ",
        "outputId": "58f1be26-f535-4c72-ae02-df34d89bbae5"
      },
      "source": [
        "##256 bit sized key\n",
        "tic = 0\n",
        "toc = 0\n",
        "p = number.getPrime(128)\n",
        "q = number.getPrime(128)\n",
        "tic = time.perf_counter()\n",
        "d = modinv(e, (p-1)*(q-1))\n",
        "toc = time.perf_counter()\n",
        "print('private key is(in decimal representation): ', d)\n",
        "print('bitwise length of the private key: ', d.bit_length())\n",
        "print('time required to calculate it:', toc-tic)"
      ],
      "execution_count": null,
      "outputs": [
        {
          "output_type": "stream",
          "name": "stdout",
          "text": [
            "private key is(in decimal representation):  34899404270609141685059290186013843198314780094621635234900268435590708306553\n",
            "bitwise length of the private key:  255\n",
            "time required to calculate it: 6.696599939459702e-05\n"
          ]
        }
      ]
    },
    {
      "cell_type": "code",
      "metadata": {
        "colab": {
          "base_uri": "https://localhost:8080/"
        },
        "id": "qDTTH_i54h0Z",
        "outputId": "9a5cb965-025e-4bbb-f0fc-92bf812f3a15"
      },
      "source": [
        "##1024 bit sized key\n",
        "tic = 0\n",
        "toc = 0\n",
        "p = number.getPrime(512)\n",
        "q = number.getPrime(512)\n",
        "tic = time.perf_counter()\n",
        "d = modinv(e, (p-1)*(q-1))\n",
        "toc = time.perf_counter()\n",
        "print('private key is(in decimal representation): ', d)\n",
        "print('bitwise length of the private key: ', d.bit_length())\n",
        "print('time required to calculate it:', toc-tic)"
      ],
      "execution_count": null,
      "outputs": [
        {
          "output_type": "stream",
          "name": "stdout",
          "text": [
            "private key is(in decimal representation):  25403769354772169114049870922838245750317564537233072112153561386257985761870675388143626736750414344956045635989764315798685598589855415973122304989264215475287263705634021846571879354478965466976901038409134075849754290236096350637454339758303030547635935547326597343097626254215198324387233763030049148673\n",
            "bitwise length of the private key:  1022\n",
            "time required to calculate it: 9.825400047702715e-05\n"
          ]
        }
      ]
    },
    {
      "cell_type": "code",
      "metadata": {
        "colab": {
          "base_uri": "https://localhost:8080/"
        },
        "id": "KVeXUAar5Xd9",
        "outputId": "12b37aae-b880-40d6-eed7-3e995b7bce28"
      },
      "source": [
        "##2048 bit sized key\n",
        "tic = 0\n",
        "toc = 0\n",
        "p = number.getPrime(1024)\n",
        "q = number.getPrime(1024)\n",
        "tic = time.perf_counter()\n",
        "d = modinv(e, (p-1)*(q-1))\n",
        "toc = time.perf_counter()\n",
        "print('private key is(in decimal representation): ', d)\n",
        "print('bitwise length of the private key: ', d.bit_length())\n",
        "print('time required to calculate it:', toc-tic)"
      ],
      "execution_count": null,
      "outputs": [
        {
          "output_type": "stream",
          "name": "stdout",
          "text": [
            "private key is(in decimal representation):  8332093938479355773551653939242308538845963382548193273591104986606366800849913226866805199942641428807644443765642314250887680560771544017786325242322022685926227943709892931886418126369915465164430720697723815110154717553550703136994616530027376039594462504197666012649639353173759514297640658566533987450481231054797509022241261078431315243112700062821076222232734322802145016240336751344491573492004562463444591124398852825557930888427662836934227599785604034096184173008495809824663591007153014456135978186478225457490330730113871087945648344597971268068310686965340346711996538104165470222769774901757598061757\n",
            "bitwise length of the private key:  2047\n",
            "time required to calculate it: 8.281100053864066e-05\n"
          ]
        }
      ]
    },
    {
      "cell_type": "code",
      "metadata": {
        "colab": {
          "base_uri": "https://localhost:8080/"
        },
        "id": "vUKOpzH75gMy",
        "outputId": "e776e645-aeb7-4268-919f-73014c72ba6f"
      },
      "source": [
        "##4096 bit sized key\n",
        "tic = 0\n",
        "toc = 0\n",
        "p = number.getPrime(2048)\n",
        "q = number.getPrime(2048)\n",
        "tic = time.perf_counter()\n",
        "d = modinv(e, (p-1)*(q-1))\n",
        "toc = time.perf_counter()\n",
        "print('private key is(in decimal representation): ', d)\n",
        "print('bitwise length of the private key: ', d.bit_length())\n",
        "print('time required to calculate it:', toc-tic)"
      ],
      "execution_count": null,
      "outputs": [
        {
          "output_type": "stream",
          "name": "stdout",
          "text": [
            "private key is(in decimal representation):  303622709041309744003784556339081374124869223153789993506143687006862006940111770689934631440460777410551668450796816001563394501031051987445432840130561271451155408028234368398725593081297223512834307506864479482193439895549783969163615699361079995438398582599803236219905596883205479494963614069244198900379039350145446399446398281027527712083860239769436457054576812408347397754189405765368665254899976606650209528059612411023051109133717745007972190612928658145475537095603342977556667577142819929943946558228123237551636958591106742963393126733607859555831403043912083394035138490262116810850785856737337913601842576510880809322194229857831986078114680642757221209870561653992019405542885029464062488190882304759234019007600581020013789956132226318241980576464271979774890482704108526409549363190201586437016864988594475293774141324159502899000605697200885355527249252265572559402446341492878781212082586697509134727888876364656562482647523988476066446911748944441013413508384117244036239494608594315075704387594835472721388348966444729048777308034268364020025225350488904010694095265051290833431162006697262571860834954489938070950410065236602356138866275777486706697406814489798123968317927230833286225972277449427966090655409\n",
            "bitwise length of the private key:  4095\n",
            "time required to calculate it: 8.748300024308264e-05\n"
          ]
        }
      ]
    },
    {
      "cell_type": "code",
      "metadata": {
        "colab": {
          "base_uri": "https://localhost:8080/"
        },
        "id": "sCwS2L8h5r_c",
        "outputId": "b5165d57-f945-425a-a91d-5a529d27d1d9"
      },
      "source": [
        "##8192 bit sized key\n",
        "tic = 0\n",
        "toc = 0\n",
        "p = number.getPrime(4096)\n",
        "q = number.getPrime(4096)\n",
        "tic = time.perf_counter()\n",
        "d = modinv(e, (p-1)*(q-1))\n",
        "toc = time.perf_counter()\n",
        "print('private key is(in decimal representation): ', d)\n",
        "print('bitwise length of the private key: ', d.bit_length())\n",
        "print('time required to calculate it:', toc-tic)"
      ],
      "execution_count": null,
      "outputs": [
        {
          "output_type": "stream",
          "name": "stdout",
          "text": [
            "private key is(in decimal representation):  238563631033253255840642946170162353607583321042559833421104590319513118495658972987351242400903080902730347323928615880126623028844693625532563083142541073593689329565059278472496147229483769722579602496687235547992505896911468177611739772992054506940495617824535788458320662909933437267500274217857780815561684255256780466083632000815924388879764266083401833639601963566807784914997339715632233694013391721644699121423391825860291561561512757018896637286105451974366557049811139391211571485663936669687890792889453374376467292190073794127394352684791966889517862871055270196714536323296316831595700692279172974614057226191139353400704922962496061183898915115178345026523014684974522239468509852873397162135666217284282954227789914643435142858060039067353808623788848897044278138199683719180561430370510157014547318796246862786237594664601652107707651729420805959419272303614253998782437172186875916634882819659911397529570260762443616574834110420546592836978549714828519920172273151977065662803311715672877177438079254094598797108791579997373715175378514990996367592686551011173849651860130585655400511972726831564767314803536047360703304457700782055808554445524138607200561982593629868325407339979281067982403153156264718151922438492754473559443754436176967844965342026502256051804536468872884501083642023317036964109839884731785890047358821834174075767240666195932925877490315596497202681044652571207910138344568733335521318996389579190656902297675854860675988076117304463325675899765051620529127725186034231156753405254886392422692217705774229105095704584199089937255443181770731073271719312163556893162489380217947467350193346039106312164715197472433937997362171553981820512775553531460635109875418580157128207045368520020151909900318163260737870070589954818015725319408284385799568441480251088041093331491633051344424782526098774265156763882661712260162245214646204145079488372028345971954572112632296861775837605738727495150441380027072326712421084380669557484941487743567360143975577552408541248202945615172329824730153767948699473231664998965458203627967266704473829539710201534119319422834472135482657846557081433569303554850179040810624473257496128636035394109564513808557742130490000313677932299969366419275880858915965197946241658011016418511540920061889503594319815275700442963482780138772671886210193196024688065406126624672003634613525971594481247317603606520552296716667896592166212262170713236611591059982956344804335929680080041785289998239895489\n",
            "bitwise length of the private key:  8190\n",
            "time required to calculate it: 0.00010568099969532341\n"
          ]
        }
      ]
    },
    {
      "cell_type": "markdown",
      "metadata": {
        "id": "IuJmV86BbZuB"
      },
      "source": [
        "###TASK 2 "
      ]
    },
    {
      "cell_type": "markdown",
      "metadata": {
        "id": "Brz0FaN-CwvJ"
      },
      "source": [
        "###converting ascii string to its hexadecimal correspondence"
      ]
    },
    {
      "cell_type": "code",
      "metadata": {
        "id": "wOQPxh9xCHaH",
        "colab": {
          "base_uri": "https://localhost:8080/"
        },
        "outputId": "d47df3fe-0936-43ba-d864-65e9b779a2db"
      },
      "source": [
        " s = 'Hello, this is my first RSA message!'.encode('utf-8')\n",
        " m = s.hex()\n",
        " ##verifying the hex version of the message\n",
        " print(m)"
      ],
      "execution_count": null,
      "outputs": [
        {
          "output_type": "stream",
          "name": "stdout",
          "text": [
            "48656c6c6f2c2074686973206973206d7920666972737420525341206d65737361676521\n"
          ]
        }
      ]
    },
    {
      "cell_type": "code",
      "metadata": {
        "id": "1VwkVp6zBj9b",
        "colab": {
          "base_uri": "https://localhost:8080/"
        },
        "outputId": "33e0b701-c2b0-4b8e-ce8c-8e3cd8a330a9"
      },
      "source": [
        "base16INT = int(m, 16)\n",
        "hex_value = hex(base16INT)\n",
        "print(hex_value)"
      ],
      "execution_count": null,
      "outputs": [
        {
          "output_type": "stream",
          "name": "stdout",
          "text": [
            "0x48656c6c6f2c2074686973206973206d7920666972737420525341206d65737361676521\n"
          ]
        }
      ]
    },
    {
      "cell_type": "code",
      "metadata": {
        "id": "21Us89qwCwCm"
      },
      "source": [
        "N = 0xEF38064573FC9B1DF7BD8415B6BFB64402E5DB284FE8CAD9A85F0785BC3E3D07A3CFCFCEE6C8B64C37966982472C36604EF8B5A4AA5178CD2758D0E443126C19 \n",
        "e = 0x010001 \n",
        "##converting the hex value of the message to integer so we can involve the number in calculations.\n",
        "hex_int = int(hex_value, 16)"
      ],
      "execution_count": null,
      "outputs": []
    },
    {
      "cell_type": "code",
      "metadata": {
        "colab": {
          "base_uri": "https://localhost:8080/"
        },
        "id": "C3hZK_AGDINk",
        "outputId": "3dd0d5ad-f1d7-45f0-ec67-74fff4f2a383"
      },
      "source": [
        "print(hex_int)\n",
        "print(type(hex_int))"
      ],
      "execution_count": null,
      "outputs": [
        {
          "output_type": "stream",
          "name": "stdout",
          "text": [
            "140641817802151987684858214419923383672581517125227359164114232305680740378420934305057\n",
            "<class 'int'>\n"
          ]
        }
      ]
    },
    {
      "cell_type": "code",
      "metadata": {
        "id": "KxW8mxSDEW5J",
        "colab": {
          "base_uri": "https://localhost:8080/"
        },
        "outputId": "fc21b504-4e9f-41ba-8eea-00bc3554cbcd"
      },
      "source": [
        "##creating the ciphertext\n",
        "C =  pow(hex_int, e, N)\n",
        "print(hex(C))"
      ],
      "execution_count": null,
      "outputs": [
        {
          "output_type": "stream",
          "name": "stdout",
          "text": [
            "0x722732586ffb8b6639aed189a822d92d16630fac0d54c9f7a7df9810e2f2200476fad29db5de2aaa2c82f1f706cbd674e09cbaf5e7215cb179933b359fca8997\n"
          ]
        }
      ]
    },
    {
      "cell_type": "markdown",
      "metadata": {
        "id": "hQD5HN2xEv9T"
      },
      "source": [
        "\n",
        "\n",
        "```\n",
        "```\n",
        "\n",
        "checking the ciphertext, seems correct"
      ]
    },
    {
      "cell_type": "code",
      "metadata": {
        "colab": {
          "base_uri": "https://localhost:8080/"
        },
        "id": "ssYN5azLEidP",
        "outputId": "ee903aed-c547-4348-d58e-c59fd07f2b19"
      },
      "source": [
        "print(hex(C))"
      ],
      "execution_count": null,
      "outputs": [
        {
          "output_type": "stream",
          "name": "stdout",
          "text": [
            "0x722732586ffb8b6639aed189a822d92d16630fac0d54c9f7a7df9810e2f2200476fad29db5de2aaa2c82f1f706cbd674e09cbaf5e7215cb179933b359fca8997\n"
          ]
        }
      ]
    },
    {
      "cell_type": "code",
      "metadata": {
        "id": "stV391nfFBtq"
      },
      "source": [
        "new_str = 'This is a much longer second RSA message. I am having so much fun!'.encode('utf-8')"
      ],
      "execution_count": null,
      "outputs": []
    },
    {
      "cell_type": "code",
      "metadata": {
        "id": "UNYBn69GFHEJ"
      },
      "source": [
        "m = new_str.hex()\n",
        "base16INT = int(m, 16)\n",
        "hex_value = hex(base16INT)\n",
        "hex_int = int(hex_value, 16)\n",
        "C =  pow(hex_int, e, N)"
      ],
      "execution_count": null,
      "outputs": []
    },
    {
      "cell_type": "code",
      "metadata": {
        "colab": {
          "base_uri": "https://localhost:8080/"
        },
        "id": "FwiTtwHWFcEk",
        "outputId": "433cb372-b1a3-4dc2-a9a3-2639491f5279"
      },
      "source": [
        "print(hex(C))"
      ],
      "execution_count": null,
      "outputs": [
        {
          "output_type": "stream",
          "name": "stdout",
          "text": [
            "0xd7b171885415c1eb8a45bf863be956744068ab5b6b2d9371b5dcde1f96d57319ad0bd9f67b8be5256676062c71dab968aeaa0824474fadf8749573c0aa88b59c\n"
          ]
        }
      ]
    },
    {
      "cell_type": "markdown",
      "metadata": {
        "id": "dn1xLZqDMPHr"
      },
      "source": [
        "###TASK 3\n"
      ]
    },
    {
      "cell_type": "code",
      "metadata": {
        "id": "m-e8jqJcMRWw"
      },
      "source": [
        "## N, PUBLIC KEY, PRIVATE KEY, CIPHERTEXT\n",
        "N = 0xBDDD9F7CF8B69B24810B0A0F02CE69549F5E94BAD865100F60698C13A5E190F24D8900B8E9126461110D51FA7D5C7B1E0F2DA28568D36D96BE65D9062DD2EE89\n",
        "e = 0x010001\n",
        "d = 0x6D7690B4E44FA332709384C112C51E45037CEC12AD1FD71A866353B72033E3F44FE76BCC343CB4319CCD5049AE3B52CB65102249BAF44AB834311CC908E17461 "
      ],
      "execution_count": null,
      "outputs": []
    },
    {
      "cell_type": "code",
      "metadata": {
        "id": "mZIITebEM6fZ"
      },
      "source": [
        "Ciphertext = 0x35B8BC929DD26C75A17CDA4772FB9E6A0682ED019EE806D1507AFC064D4955BE031EACE40DD3B9F9421511EC0AF6600510E93E0C3D6F2270FF9A879C132476C "
      ],
      "execution_count": null,
      "outputs": []
    },
    {
      "cell_type": "code",
      "metadata": {
        "colab": {
          "base_uri": "https://localhost:8080/"
        },
        "id": "5xARqJ5UNCk-",
        "outputId": "d808ad30-89b4-442a-b774-0cd319d2723c"
      },
      "source": [
        "M = pow(Ciphertext, d, N)\n",
        "print(hex(M))"
      ],
      "execution_count": null,
      "outputs": [
        {
          "output_type": "stream",
          "name": "stdout",
          "text": [
            "0x4c65742773206b6565702074686973206d65737361676520612073656372657421\n"
          ]
        }
      ]
    },
    {
      "cell_type": "code",
      "metadata": {
        "colab": {
          "base_uri": "https://localhost:8080/"
        },
        "id": "CpBsNKoYN2ki",
        "outputId": "587ad8d8-dbbb-4994-c1db-f766538c8a3c"
      },
      "source": [
        "hex_string = \"4c65742773206b6565702074686973206d65737361676520612073656372657421\"\n",
        "\n",
        "bytes_object = bytes.fromhex(hex_string)\n",
        "\n",
        "ascii_string = bytes_object.decode(\"ASCII\")\n",
        "print(ascii_string)"
      ],
      "execution_count": null,
      "outputs": [
        {
          "output_type": "stream",
          "name": "stdout",
          "text": [
            "Let's keep this message a secret!\n"
          ]
        }
      ]
    },
    {
      "cell_type": "markdown",
      "metadata": {
        "id": "w3B9d-zGPtJm"
      },
      "source": [
        "## Question 2; key generation with p and q"
      ]
    },
    {
      "cell_type": "code",
      "metadata": {
        "colab": {
          "base_uri": "https://localhost:8080/"
        },
        "id": "beuMApNjPsMs",
        "outputId": "7e55d45a-532c-4740-d3ca-d1ada511a367"
      },
      "source": [
        "from Crypto.Util import number\n",
        "p = number.getPrime(1024)\n",
        "q = number.getPrime(1024)\n",
        "print(p)\n",
        "print(q)"
      ],
      "execution_count": null,
      "outputs": [
        {
          "output_type": "stream",
          "name": "stdout",
          "text": [
            "152659918699638629812694741856488091780641464867774945557942558504510479942474112694329504323941700307458503279691862340311651752232161959302951123162582659653807302150269663451408675067973963387687815130916181052184413667756216833970614053429009777770875554627767623613587747620261588066818874515062328540757\n",
            "104319206767880510590211650389159657419432869848172004882481922150305575136738873176263822587793716386929294982555796739109744370523219188534306904440272196906358342423523772238747225988362443283522650952575665403397434409414152040758507073896353206397514800340373110311130484636887379488756645889019944073179\n"
          ]
        }
      ]
    },
    {
      "cell_type": "code",
      "metadata": {
        "colab": {
          "base_uri": "https://localhost:8080/"
        },
        "id": "Hc1KCK9wRTYJ",
        "outputId": "6417b468-7ac2-45d7-a566-cba513908542"
      },
      "source": [
        "p.bit_length()\n"
      ],
      "execution_count": null,
      "outputs": [
        {
          "output_type": "execute_result",
          "data": {
            "text/plain": [
              "1024"
            ]
          },
          "metadata": {},
          "execution_count": 57
        }
      ]
    },
    {
      "cell_type": "code",
      "metadata": {
        "colab": {
          "base_uri": "https://localhost:8080/"
        },
        "id": "6qVLqBcQRaVK",
        "outputId": "6c0b922b-7cae-4971-8290-7c6fcfb7e5b4"
      },
      "source": [
        "q.bit_length()"
      ],
      "execution_count": null,
      "outputs": [
        {
          "output_type": "execute_result",
          "data": {
            "text/plain": [
              "1024"
            ]
          },
          "metadata": {},
          "execution_count": 58
        }
      ]
    },
    {
      "cell_type": "code",
      "metadata": {
        "id": "R-zgz_Z5V1r5"
      },
      "source": [
        "N = p*q"
      ],
      "execution_count": null,
      "outputs": []
    },
    {
      "cell_type": "markdown",
      "metadata": {
        "id": "MjTo_BKxRdsv"
      },
      "source": [
        "Encryption"
      ]
    },
    {
      "cell_type": "code",
      "metadata": {
        "id": "dvmq-qsZiu9z"
      },
      "source": [
        "def computeGCD(x, y):\n",
        "  while(y):\n",
        "    x , y = y , x % y\n",
        "  return x  "
      ],
      "execution_count": null,
      "outputs": []
    },
    {
      "cell_type": "code",
      "metadata": {
        "id": "WjLUVWLJRg0Z"
      },
      "source": [
        "e = 2;\n",
        "phi = (p-1)*(q-1);\n",
        "i = 1\n",
        "while e < phi:\n",
        "  if computeGCD(e, phi)==1:\n",
        "    break\n",
        "  else:\n",
        "    e = e+1"
      ],
      "execution_count": null,
      "outputs": []
    },
    {
      "cell_type": "code",
      "metadata": {
        "colab": {
          "base_uri": "https://localhost:8080/"
        },
        "id": "37n-G4wQUKaU",
        "outputId": "e92659a2-3aa6-4dc8-dbea-0ff6033d3b62"
      },
      "source": [
        "e"
      ],
      "execution_count": null,
      "outputs": [
        {
          "output_type": "execute_result",
          "data": {
            "text/plain": [
              "5"
            ]
          },
          "metadata": {},
          "execution_count": 62
        }
      ]
    },
    {
      "cell_type": "code",
      "metadata": {
        "id": "O5vZH6wHUVsC",
        "colab": {
          "base_uri": "https://localhost:8080/",
          "height": 164
        },
        "outputId": "2d0bbc04-b101-41c1-e2a6-203c8b0a43e8"
      },
      "source": [
        "d = modinv(e, (p-1)*(q-1))"
      ],
      "execution_count": null,
      "outputs": [
        {
          "output_type": "error",
          "ename": "NameError",
          "evalue": "ignored",
          "traceback": [
            "\u001b[0;31m---------------------------------------------------------------------------\u001b[0m",
            "\u001b[0;31mNameError\u001b[0m                                 Traceback (most recent call last)",
            "\u001b[0;32m<ipython-input-63-f8aeda2cf0b7>\u001b[0m in \u001b[0;36m<module>\u001b[0;34m()\u001b[0m\n\u001b[0;32m----> 1\u001b[0;31m \u001b[0md\u001b[0m \u001b[0;34m=\u001b[0m \u001b[0mmodinv\u001b[0m\u001b[0;34m(\u001b[0m\u001b[0me\u001b[0m\u001b[0;34m,\u001b[0m \u001b[0;34m(\u001b[0m\u001b[0mp\u001b[0m\u001b[0;34m-\u001b[0m\u001b[0;36m1\u001b[0m\u001b[0;34m)\u001b[0m\u001b[0;34m*\u001b[0m\u001b[0;34m(\u001b[0m\u001b[0mq\u001b[0m\u001b[0;34m-\u001b[0m\u001b[0;36m1\u001b[0m\u001b[0;34m)\u001b[0m\u001b[0;34m)\u001b[0m\u001b[0;34m\u001b[0m\u001b[0;34m\u001b[0m\u001b[0m\n\u001b[0m",
            "\u001b[0;31mNameError\u001b[0m: name 'modinv' is not defined"
          ]
        }
      ]
    },
    {
      "cell_type": "code",
      "metadata": {
        "colab": {
          "base_uri": "https://localhost:8080/"
        },
        "id": "pR7hoGd4U4Dh",
        "outputId": "51d7e5b4-a1db-4545-d72a-a7ae184e03ee"
      },
      "source": [
        "d"
      ],
      "execution_count": null,
      "outputs": [
        {
          "output_type": "execute_result",
          "data": {
            "text/plain": [
              "12256953664057097176154022566859938639755224610555659544326772227956035337873662562432628837178782186677787645628817779427882228476102632301917062532526663529300601162357218857475727499015737002276005727489413466079926553965912097766804213669377967264607983394765451846424672852442959106270345962205091014123589410512051103924514336205534165479828518179935050495643652962538217719577971112235388857534515155424301253984242749002687327316482343122836125855433396418497063431485747014306842570570749203598897568040725554132709537259796947912797644641999201949113576904147234981666106755518025947172597637564984273850667"
            ]
          },
          "metadata": {},
          "execution_count": 68
        }
      ]
    },
    {
      "cell_type": "code",
      "metadata": {
        "colab": {
          "base_uri": "https://localhost:8080/"
        },
        "id": "OIPnKQm-U8AD",
        "outputId": "76e556d7-4b8d-4b5b-a70c-3df6081c73cf"
      },
      "source": [
        "print(d.bit_length())"
      ],
      "execution_count": null,
      "outputs": [
        {
          "output_type": "stream",
          "name": "stdout",
          "text": [
            "2047\n"
          ]
        }
      ]
    },
    {
      "cell_type": "code",
      "metadata": {
        "id": "gQLXySXpVErm"
      },
      "source": [
        "message = 'My name is Deniz'.encode('utf-8')"
      ],
      "execution_count": null,
      "outputs": []
    },
    {
      "cell_type": "code",
      "metadata": {
        "id": "8Mv-mDBbVOZy"
      },
      "source": [
        "m = message.hex()\n",
        "base16INT = int(m, 16)\n",
        "hex_value = hex(base16INT)\n",
        "hex_int = int(hex_value, 16)\n",
        "C =  pow(hex_int, e, N)"
      ],
      "execution_count": null,
      "outputs": []
    },
    {
      "cell_type": "code",
      "metadata": {
        "colab": {
          "base_uri": "https://localhost:8080/"
        },
        "id": "rUElKCZtVlAD",
        "outputId": "81ae29d0-3213-4426-a93d-1f7f2ae7ccca"
      },
      "source": [
        "print(hex(C))"
      ],
      "execution_count": null,
      "outputs": [
        {
          "output_type": "stream",
          "name": "stdout",
          "text": [
            "0x71868c257d30a8bdc5573b7c19358a5d3b76c0984fb31a78888c7eed581093e3ad53f27c58b88ba43119a83295c0128\n"
          ]
        }
      ]
    },
    {
      "cell_type": "markdown",
      "metadata": {
        "id": "7BWT45yBVr8u"
      },
      "source": [
        "decryption"
      ]
    },
    {
      "cell_type": "code",
      "metadata": {
        "id": "pyEytAZbVpLn"
      },
      "source": [
        "message = pow(C, d, N)"
      ],
      "execution_count": null,
      "outputs": []
    },
    {
      "cell_type": "code",
      "metadata": {
        "colab": {
          "base_uri": "https://localhost:8080/"
        },
        "id": "zQyG9_TcV8Lf",
        "outputId": "78f10b48-9400-4f1e-ad89-7bf34ecbbb2d"
      },
      "source": [
        "print(hex(message))"
      ],
      "execution_count": null,
      "outputs": [
        {
          "output_type": "stream",
          "name": "stdout",
          "text": [
            "0x4d79206e616d652069732044656e697a\n"
          ]
        }
      ]
    },
    {
      "cell_type": "code",
      "metadata": {
        "colab": {
          "base_uri": "https://localhost:8080/"
        },
        "id": "9VOaB5_oWBbV",
        "outputId": "713814db-8a47-40e7-8bbc-a1fe9338bbe8"
      },
      "source": [
        "hex_string = \"4d79206e616d652069732044656e697a\"\n",
        "\n",
        "bytes_object = bytes.fromhex(hex_string)\n",
        "\n",
        "ascii_string = bytes_object.decode(\"ASCII\")\n",
        "print(ascii_string)"
      ],
      "execution_count": null,
      "outputs": [
        {
          "output_type": "stream",
          "name": "stdout",
          "text": [
            "My name is Deniz\n"
          ]
        }
      ]
    },
    {
      "cell_type": "markdown",
      "metadata": {
        "id": "WUQg8w_Jg0JZ"
      },
      "source": [
        "###TASK 4"
      ]
    },
    {
      "cell_type": "markdown",
      "metadata": {
        "id": "qI2s38w7jiYE"
      },
      "source": [
        "To sign a message m, just apply the RSA function with the private key to produce a signature s; to verify, apply the RSA function with the public key to the signature, and check that the result equals the expected message."
      ]
    },
    {
      "cell_type": "code",
      "metadata": {
        "id": "xx4BdyfkgzeC"
      },
      "source": [
        "message =  'This is a contact for $100,000'.encode('utf-8')\n",
        " "
      ],
      "execution_count": null,
      "outputs": []
    },
    {
      "cell_type": "code",
      "metadata": {
        "id": "-uqfvsMUj_6a"
      },
      "source": [
        "## N, PUBLIC KEY, PRIVATE KEY\n",
        "N = 0xBDDD9F7CF8B69B24810B0A0F02CE69549F5E94BAD865100F60698C13A5E190F24D8900B8E9126461110D51FA7D5C7B1E0F2DA28568D36D96BE65D9062DD2EE89\n",
        "e = 0x010001\n",
        "d = 0x6D7690B4E44FA332709384C112C51E45037CEC12AD1FD71A866353B72033E3F44FE76BCC343CB4319CCD5049AE3B52CB65102249BAF44AB834311CC908E17461 "
      ],
      "execution_count": null,
      "outputs": []
    },
    {
      "cell_type": "code",
      "metadata": {
        "id": "piJv_7VWkZLU"
      },
      "source": [
        "m = message.hex()\n",
        "base16INT = int(m, 16)\n",
        "hex_value = hex(base16INT)\n",
        "hex_int = int(hex_value, 16)\n",
        "S =  pow(hex_int, d, N)"
      ],
      "execution_count": null,
      "outputs": []
    },
    {
      "cell_type": "code",
      "metadata": {
        "colab": {
          "base_uri": "https://localhost:8080/"
        },
        "id": "CFVQsUWskTIa",
        "outputId": "c3bc1b2c-08d0-4630-c155-613c04f62072"
      },
      "source": [
        "##the signed message\n",
        "print(hex(S))"
      ],
      "execution_count": null,
      "outputs": [
        {
          "output_type": "stream",
          "name": "stdout",
          "text": [
            "0x94b8f11efd8e23b6e8454aad5d94063e56d4e069c24a8a00935c3235bf226ccda6ba5c7c4d890828ef1d5345aee345415d915ead25ff02daabb9fd1207dab464\n"
          ]
        }
      ]
    },
    {
      "cell_type": "markdown",
      "metadata": {
        "id": "HlwmJResP6Cc"
      },
      "source": [
        "###Task 5"
      ]
    },
    {
      "cell_type": "code",
      "metadata": {
        "id": "egmAZ5ogP5GN"
      },
      "source": [
        "message =  'This is a contact for $20,000'.encode(\"utf-8\")\n",
        "## N, PUBLIC KEY, PRIVATE KEY\n",
        "N = 0xBDDD9F7CF8B69B24810B0A0F02CE69549F5E94BAD865100F60698C13A5E190F24D8900B8E9126461110D51FA7D5C7B1E0F2DA28568D36D96BE65D9062DD2EE89\n",
        "e = 0x010001\n",
        "d = 0x6D7690B4E44FA332709384C112C51E45037CEC12AD1FD71A866353B72033E3F44FE76BCC343CB4319CCD5049AE3B52CB65102249BAF44AB834311CC908E17461 "
      ],
      "execution_count": null,
      "outputs": []
    },
    {
      "cell_type": "code",
      "metadata": {
        "colab": {
          "base_uri": "https://localhost:8080/"
        },
        "id": "LJ7Y4AIMTTBx",
        "outputId": "d4b9b3c4-5583-4151-ce78-c34f6a76f54b"
      },
      "source": [
        "m = message.hex()\n",
        "print(m)"
      ],
      "execution_count": null,
      "outputs": [
        {
          "output_type": "stream",
          "name": "stdout",
          "text": [
            "54686973206973206120636f6e7461637420666f72202432302c303030\n"
          ]
        }
      ]
    },
    {
      "cell_type": "code",
      "metadata": {
        "id": "m0CQ_ElSQCiW"
      },
      "source": [
        "## digitally signing the message(encrpyting it with private key)\n",
        "m = message.hex()\n",
        "base16INT = int(m, 16)\n",
        "hex_value = hex(base16INT)\n",
        "hex_int = int(hex_value, 16)\n",
        "S =  pow(hex_int, d, N)"
      ],
      "execution_count": null,
      "outputs": []
    },
    {
      "cell_type": "code",
      "metadata": {
        "colab": {
          "base_uri": "https://localhost:8080/"
        },
        "id": "lNX2PAb-k0m9",
        "outputId": "e3f77d2e-9884-40c7-adcb-97c79397e0d9"
      },
      "source": [
        "##verifying the signing. The signed message is verified(decrpyted) with the public key.\n",
        "V = pow(S,e,N)\n",
        "print(hex(V))"
      ],
      "execution_count": null,
      "outputs": [
        {
          "output_type": "stream",
          "name": "stdout",
          "text": [
            "0x54686973206973206120636f6e7461637420666f72202432302c303030\n"
          ]
        }
      ]
    },
    {
      "cell_type": "code",
      "metadata": {
        "colab": {
          "base_uri": "https://localhost:8080/"
        },
        "id": "ibwr90gxlDP4",
        "outputId": "f1fb2abb-9e35-462e-e61d-08841679200e"
      },
      "source": [
        "##converting the hex string to ascii to observe we acquire the original message\n",
        "hex_string = \"54686973206973206120636f6e7461637420666f72202432302c303030\"\n",
        "\n",
        "bytes_object = bytes.fromhex(hex_string)\n",
        "\n",
        "ascii_string = bytes_object.decode(\"utf-8\")\n",
        "print(ascii_string)"
      ],
      "execution_count": null,
      "outputs": [
        {
          "output_type": "stream",
          "name": "stdout",
          "text": [
            "This is a contact for $20,000\n"
          ]
        }
      ]
    },
    {
      "cell_type": "markdown",
      "metadata": {
        "id": "FlQJkgi9SezL"
      },
      "source": [
        "###Question2"
      ]
    },
    {
      "cell_type": "code",
      "metadata": {
        "id": "WZuGbquKZQ1D"
      },
      "source": [
        "## importing RSA library for key generation\n",
        "from Crypto.PublicKey import RSA\n",
        "import time"
      ],
      "execution_count": null,
      "outputs": []
    },
    {
      "cell_type": "code",
      "metadata": {
        "colab": {
          "base_uri": "https://localhost:8080/"
        },
        "id": "-mPhgFN0ZpE1",
        "outputId": "7d3b88a4-9d35-4bdb-8707-0588fae690c5"
      },
      "source": [
        "## public and private keys are generated\n",
        "keyPair = RSA.generate(bits=1024)\n",
        "print(f\"Public key:  (n={hex(keyPair.n)}, e={hex(keyPair.e)})\")\n",
        "print(f\"Private key: (n={hex(keyPair.n)}, d={hex(keyPair.d)})\")"
      ],
      "execution_count": null,
      "outputs": [
        {
          "output_type": "stream",
          "name": "stdout",
          "text": [
            "Public key:  (n=0xaa44fca1f721a19e7108b7e5769c02d9818ed9739901f7c33935efe2395541b9ae382708a74a98527234b3323e84afb57ba871b9464bc0e6b614ea1cf747948fb754d0a3183d1752d9f8eb9a2e77f1a076525f48dc166a0054b5ceb4bf62fd17e651bc5986515224168c5a0b2c0a4b1c597b9b120792debfce8de41fc802fdf1, e=0x10001)\n",
            "Private key: (n=0xaa44fca1f721a19e7108b7e5769c02d9818ed9739901f7c33935efe2395541b9ae382708a74a98527234b3323e84afb57ba871b9464bc0e6b614ea1cf747948fb754d0a3183d1752d9f8eb9a2e77f1a076525f48dc166a0054b5ceb4bf62fd17e651bc5986515224168c5a0b2c0a4b1c597b9b120792debfce8de41fc802fdf1, d=0xd8ef619ba4c25f52ff064746940286f442f2931adfac777f6e8f74929b79846e8e5f5206df1e009f0a8dc517698ff9a3c014077b86e9fd5bf4f65b518c677c08df4493cdda004fef3ef85499b9604cf4e7680a9a05eb7fcd027c3a00e067a60e2851b24aa11a5210d951bba680c399b8cb3286340b4f6f481f68c23df395b61)\n"
          ]
        }
      ]
    },
    {
      "cell_type": "code",
      "metadata": {
        "colab": {
          "base_uri": "https://localhost:8080/"
        },
        "id": "9iOyIWUMZakW",
        "outputId": "afac341d-a190-4cca-dd62-23a128a2a378"
      },
      "source": [
        "## the limiting key size is public key, its size is 130 bytes. Whereas private key size is 255 bytes.\n",
        "print('key sizes in bytes')\n",
        "print((keyPair.e.bit_length()+keyPair.n.bit_length())/8)\n",
        "print((keyPair.d.bit_length()+keyPair.n.bit_length())/8)"
      ],
      "execution_count": null,
      "outputs": [
        {
          "output_type": "stream",
          "name": "stdout",
          "text": [
            "key sizes in bytes\n",
            "130.125\n",
            "255.5\n"
          ]
        }
      ]
    },
    {
      "cell_type": "code",
      "metadata": {
        "id": "UO6_QyhqVk5A"
      },
      "source": [
        "##code for generating fixed size file with random content\n",
        "def generate_big_random_bin_file(filename,size):\n",
        "    \"\"\"\n",
        "    generate big binary file with the specified size in bytes\n",
        "    :param filename: the filename\n",
        "    :param size: the size in bytes\n",
        "    :return:void\n",
        "    \"\"\"\n",
        "    import os \n",
        "    with open('%s'%filename, 'wb') as fout:\n",
        "        fout.write(os.urandom(size)) #1\n",
        "\n",
        "    print ('big random binary file with size %f generated ok'%size)\n",
        "    pass"
      ],
      "execution_count": null,
      "outputs": []
    },
    {
      "cell_type": "code",
      "metadata": {
        "colab": {
          "base_uri": "https://localhost:8080/"
        },
        "id": "lfBkEzApVu0U",
        "outputId": "6d6d44f5-66d2-487e-f557-eaeaac8e3a5c"
      },
      "source": [
        "if __name__ == '__main__':\n",
        "    generate_big_random_bin_file(\"temp_big_bin.dat\", 1024)"
      ],
      "execution_count": null,
      "outputs": [
        {
          "output_type": "stream",
          "name": "stdout",
          "text": [
            "big random binary file with size 1024.000000 generated ok\n"
          ]
        }
      ]
    },
    {
      "cell_type": "code",
      "metadata": {
        "colab": {
          "base_uri": "https://localhost:8080/"
        },
        "id": "O79GQjZlWNGM",
        "outputId": "c9f1d5d9-328d-4cca-dacc-b9a638e5b82f"
      },
      "source": [
        "##the file size in bytes is 1024\n",
        "txt_file =open(\"temp_big_bin.dat\",\"rb\")\n",
        "print(len(txt_file.read()))"
      ],
      "execution_count": null,
      "outputs": [
        {
          "output_type": "stream",
          "name": "stdout",
          "text": [
            "1024\n"
          ]
        }
      ]
    },
    {
      "cell_type": "code",
      "metadata": {
        "colab": {
          "base_uri": "https://localhost:8080/"
        },
        "id": "rgyBI5ehWkme",
        "outputId": "afc99ccf-6539-466a-9d3b-ece89b6b545b"
      },
      "source": [
        "byte_list = []\n",
        "\n",
        "with open(\"temp_big_bin.dat\", \"rb\") as f:\n",
        "    while True:\n",
        "        byte = f.read(128)\n",
        "        if not byte:\n",
        "            break\n",
        "        byte_list.append(byte)\n",
        "\n",
        "print(byte_list)"
      ],
      "execution_count": null,
      "outputs": [
        {
          "output_type": "stream",
          "name": "stdout",
          "text": [
            "[b'\\x87\\xd4ZD\\xb8\\xa7\\xbc\\xef\\x06N\\x0e\\xda\\xe4\\x0fl\\xb0t\\x11h\\xa2\\xff\\x1e\\x04\\xe5\\xd7\\xf9J\\x7f\\xd7\\xcc\\x15\\x1f\\xc4\\xcb\\xc1\\xd2a\\xd1\\x95? \\xc2z\\xf8\\xfa\\xae\\x9c\\xfb\\x82\\x1f1\\xac0\"\\x87\\x19\\xd8\\x18-\\x9ec\\xbd}>\\xe4_\\x1df\\xe3n\\xc4*\\xfch\\xf1^\\xcei\\x13\\x98\\x1e\\x93\\xc8J\\xae!\\xc6\\x88\\xbc\\x939(r;=\\xbc9\\xa4\\xa4\\xbb=pA:,RW\\n\\xd7\\x191<\\xfdF\\xef^\\xe2F\\xa9\\xb5Kl\\xa8\\x98\\xd2\\xfa(7', b';\\xef\\x80\\xba\\x10\\xc59\\x0e\\xbd\\xdf\\xcb.wH\\xc0\\xbf*:\\xc2E\\xc6sC\\x8b\\xd8`v\\xb7\\x87\\xb1\\xa27$\\xb1b\\x84\\x02\\x98\\xb0p\\xc0b\\xa2\\xa7\\x92\\x16\\xa5\\x8d\\xef\\xed\\xb0\\x10\\xcf\\xc6M\\r\\xeb\\x8f5\\xc5mFY\\\\\\xba\\x8f=\\xd0k\\xa8.\\xd9\\x99\\xa65\\x1a9F\\xc4\\xfdg\\x8f1P\\xd9Xt2\\xa0\\x96\\xba2\\xf6\\xfd\\x15\\n\\x0f^\\xb7\\xfe\\xfc\\xdf\\xd5c\\x84\\x83\\x02\"\\xff\\xdf\\xd4.v\\xe8[\\x1d\\x14f\\xc6J1\\x1a\\xf3s\\xca\\x81y\\xd8', b'O\\xd3>\\xa4wE\\x97\\xd5\\xf4>\\xd35fz\\xf4\\xb3\\xe8\\xcb\\xfbB\\xc9tjw\\xba\\xba{d1kQ\\xa7\\xb9\\xc4\\xf5b\\x07\\xc1\\x12\\xea\\x86\\xcb\\xcf`\\xa5\"\\x87\\xc1&[6g\\x15\\xea\\xdcyu\\xbc\\xa2\"\\xcf\\xa3)\\xc1\\x17\\x8e\\xf6\\xeb\\xf9\\x83c\\x13R|\\x01_\\xc6k\\xb2\\x93\\xdb,\\xd2]\\x05\\xeb\\x87\\xeaOP\\xd7V\\x03?\\xc2\\xf9\\xef\\x04\\xd9h/\\x87R\\x82\\xeby+\\xf9o{O\\xd3q\\xcf\\x04k\\xcc}\\xc1\"\"\\xeaT\\x94\\xbf\\x86\\x84 ', b'\\xd4\\xfd\\xd1a\\xfd\\xacj4\\xcfj\\x83\\x87\\n\\x0e\\x84Q\\xde\\xdapNz\\x98\\x91\\x89\\x80\\xea\\xb3%\\xbc\\xd4\\xd1r\\xda6\\xfc\\xaf\\xbb\\xd9\\x84L<?Xs\\xf1u\\x1d\\x9aH`\\xe4J\\xe0\\x8f\\x9a\\xbc_\\xa9#l\\x08\\xaa\\x80\\xc9lI\\xef\\xb4\\xac\\xc7\\x020\\xc9\\xc8\\xbf\\xb3t\\x8c%\\x87\\x9b\\x10BE\\xa2\\x1f\\xdf\\x9fT`X\\xcb\\x00\\xe7,\\xda\\x12L\\xd6\\x01w}\\x0fr\\xf4xp\\x88\\xa0\\xc1?\\x04\\xd9\\xfb\\x1c\\x0cJ\\xd0(\\xe3z#\\x06\\xcc\\xcf\\xaa\\x12\"', b'5\\xebT\\xe7\\xa7\\xd9l.\\xc9*?\\x8f\\x83\\xac\\x05\\xd1\\xe9\\xf6\\xbf\\xac\\xf1\\xcffhU\\x00\\xf6\\xb7\\xe5\\x87\\xe07\\x7f\\xf3\\x98\\xa7\\xf0\\xe3\\xff\\xbd\\xe5\\x95\\x1b\\x9c-\\x9a)l\\x14\\x18[\\xb0+\\x97Hf\\x15=\\xa2\\xd1\\xca\\xd3\\x06\\xa7\\xed\\xd3\\xa3\\xf6As\\xa54,D\\xc3l\\xb6\\x02\\xe4ZE\\x8b\\xcf\\x11\\r\\xe6\\xda+\\xed6v\\xec\\x10\\xf4\\xecrG0\\x99gx\\x96\\xa8\\xe8\\x80\\x0e\\xd2\\x90\\x1c3\\xd7\\x9e,\"\\x02\\x02\\x9b\\xb5P\\x906\\xdc+o\\xfe\\xfd\\x0e\\xe0', b'Hg\\xe8\\x0b\\x82j\\xe6HSg\\xaa3\\x1b\\xd4O\\x04\\xc7<\\xaa6U\\x8bV\\xb06)\\xf6\\x82\\xee\\xffV\\xa5S8\\x1c\\x17\\xf6\\xdf\\x91\\xed}e\\x1d(\\xcdnm\\x9e\\xba\\xfe\\xd1\\x854\\x04K\"\\xd1\\xff\\xb9W\\xe5\\x03\\xa6p\\xeb0\\xf9\\x9dX\\x11:\\x82\\x08\\'jX.\\x19k\\x156\\xb2\\x1a\\x962T\\xe6,w0sj\\x8d\\xdd\\x98dV$\\xcf]J\\x16Qd]\\xc1\\nI>\\xca\\x16\\xedd\\x12\\x1a\\xb6,\\xfc\\xbf\\x1af\\x85y\\x0f\\x12\\x1feE', b'8\\x17\\x8c\\xea\\x80cjK\\x15x)4T\\xee\\xc2\\x86r\\xef\\x9f)\\xd7LL\\x04\\xc1t\\xfa\\x88!\\xf0`\\x86\\xb4<~N\\xe72\\xf2\\x0f\\xaf\\xfd|\\xae$\\x03#\\xd4F\\xd6\\x96\\x87;\\x03\\nx\\x9f\\x7f\\xb3\\x19\\xca\\xb2Ra\\x03>\\xff,(%\\x89l\\xa3K\\x9c\\xba9N)\\xfe\\xdd\\xa3\\x16x[\\xcd\\x06\\xfa\\xe3\"\\x1fGXV\\xcd\\xe2\\xb5\\xc7\\xfa\\xc4b\\x86\\x02\\x07\\xfc\\x95\\xb6)C\\xbc\\xa3\\x8a\\x9d\\xa9\\x8b|\\xa5\\x16\\xc5\\xb96\\xd5\\xb8\\xdas\\xd6k\\xbe', b\"\\xe6\\x98\\x1cy\\xc0F\\xb5\\xbc\\x98v`\\x96\\xe5Y\\xee\\x15\\xa6t\\xa8\\x99(x\\xa3\\x00i\\xed\\xac\\xcb\\x0fm\\xe8\\x96(\\xebw\\x84\\xfeH\\x04\\xfa\\xf0\\xe6\\x1f1\\xe8\\x97\\xa7\\xdc\\x0e\\xcf\\x95;\\xf6<\\xe2\\xfb\\x9crN\\xd0\\xe3\\xa3\\xa5b\\xcfB\\x0f3\\x0fL\\xb7s\\xc2\\x7f\\x93\\x0e/`\\xad\\x82\\xc0\\x19\\xc0c\\xb4\\x97\\r\\xb6\\xa71\\x06'\\xf7\\xc3\\x86{\\x0b`\\x01\\\\\\xc0\\xe6*\\x19\\x8e\\x1d\\x04\\xb8AX\\x99\\xed\\xcbU\\xb9N+3\\xfe\\xe0\\xda\\xcd\\x03\\x92{\\xde`\\xef\"]\n"
          ]
        }
      ]
    },
    {
      "cell_type": "code",
      "metadata": {
        "colab": {
          "base_uri": "https://localhost:8080/"
        },
        "id": "fdCaaoNi_XGl",
        "outputId": "78d21755-d270-45ee-e3ca-89bb88fdc155"
      },
      "source": [
        "## byte_list stores the blocks we sign and verify its length is 1024/128 = 8 \n",
        "len(byte_list)"
      ],
      "execution_count": null,
      "outputs": [
        {
          "output_type": "execute_result",
          "data": {
            "text/plain": [
              "8"
            ]
          },
          "metadata": {},
          "execution_count": 50
        }
      ]
    },
    {
      "cell_type": "code",
      "metadata": {
        "colab": {
          "base_uri": "https://localhost:8080/"
        },
        "id": "O1NxUi5t_fC-",
        "outputId": "3739512a-98af-49a8-f004-7f8a1d3c9b93"
      },
      "source": [
        "## sign_list will store the signatures performed on 1 block of information.\n",
        "## variable signature stores the 1 block of information that is signed with private key. \n",
        "tic = time.perf_counter()\n",
        "sig_list = []\n",
        "for message in byte_list:\n",
        "  m = int.from_bytes(message, byteorder='big')\n",
        "  print(hex(m))\n",
        "  signature = pow(m, keyPair.d, keyPair.n)\n",
        "  sig_list.append(signature)\n",
        "toc = time.perf_counter()\n",
        "print('Time passed to sign the file:(seconds)',toc-tic)"
      ],
      "execution_count": null,
      "outputs": [
        {
          "output_type": "stream",
          "name": "stdout",
          "text": [
            "0x87d45a44b8a7bcef064e0edae40f6cb0741168a2ff1e04e5d7f94a7fd7cc151fc4cbc1d261d1953f20c27af8faae9cfb821f31ac30228719d8182d9e63bd7d3ee45f1d66e36ec42afc68f15ece6913981e93c84aae21c688bc933928723b3dbc39a4a4bb3d70413a2c52570ad719313cfd46ef5ee246a9b54b6ca898d2fa2837\n",
            "0x3bef80ba10c5390ebddfcb2e7748c0bf2a3ac245c673438bd86076b787b1a23724b162840298b070c062a2a79216a58defedb010cfc64d0deb8f35c56d46595cba8f3dd06ba82ed999a6351a3946c4fd678f3150d9587432a096ba32f6fd150a0f5eb7fefcdfd56384830222ffdfd42e76e85b1d1466c64a311af373ca8179d8\n",
            "0x4fd33ea4774597d5f43ed335667af4b3e8cbfb42c9746a77baba7b64316b51a7b9c4f56207c112ea86cbcf60a52287c1265b366715eadc7975bca222cfa329c1178ef6ebf9836313527c015fc66bb293db2cd25d05eb87ea4f50d756033fc2f9ef04d9682f875282eb792bf96f7b4fd371cf046bcc7dc12222ea5494bf868420\n",
            "0xd4fdd161fdac6a34cf6a83870a0e8451deda704e7a98918980eab325bcd4d172da36fcafbbd9844c3c3f5873f1751d9a4860e44ae08f9abc5fa9236c08aa80c96c49efb4acc70230c9c8bfb3748c25879b104245a21fdf9f546058cb00e72cda124cd601777d0f72f4787088a0c13f04d9fb1c0c4ad028e37a2306cccfaa1222\n",
            "0x35eb54e7a7d96c2ec92a3f8f83ac05d1e9f6bfacf1cf66685500f6b7e587e0377ff398a7f0e3ffbde5951b9c2d9a296c14185bb02b974866153da2d1cad306a7edd3a3f64173a5342c44c36cb602e45a458bcf110de6da2bed3676ec10f4ec72473099677896a8e8800ed2901c33d79e2c2202029bb5509036dc2b6ffefd0ee0\n",
            "0x4867e80b826ae6485367aa331bd44f04c73caa36558b56b03629f682eeff56a553381c17f6df91ed7d651d28cd6e6d9ebafed18534044b22d1ffb957e503a670eb30f99d58113a8208276a582e196b1536b21a963254e62c7730736a8ddd98645624cf5d4a1651645dc10a493eca16ed64121ab62cfcbf1a6685790f121f6545\n",
            "0x38178cea80636a4b1578293454eec28672ef9f29d74c4c04c174fa8821f06086b43c7e4ee732f20faffd7cae240323d446d696873b030a789f7fb319cab25261033eff2c2825896ca34b9cba394e29fedda316785bcd06fae3221f475856cde2b5c7fac462860207fc95b62943bca38a9da98b7ca516c5b936d5b8da73d66bbe\n",
            "0xe6981c79c046b5bc98766096e559ee15a674a8992878a30069edaccb0f6de89628eb7784fe4804faf0e61f31e897a7dc0ecf953bf63ce2fb9c724ed0e3a3a562cf420f330f4cb773c27f930e2f60ad82c019c063b4970db6a7310627f7c3867b0b60015cc0e62a198e1d04b8415899edcb55b94e2b33fee0dacd03927bde60ef\n",
            "Time passed to sign the file:(seconds) 0.06176326100012375\n"
          ]
        }
      ]
    },
    {
      "cell_type": "code",
      "metadata": {
        "colab": {
          "base_uri": "https://localhost:8080/"
        },
        "id": "6rfMvSVWZGKu",
        "outputId": "7aef879b-779b-47a0-d90a-e5b78cf693fb"
      },
      "source": [
        "##one can observe the hexadecimal representation of the signatures stored in the list as follows;\n",
        "##signatures are in type of integers.\n",
        "for signature in sig_list:\n",
        "  print(\"Signature:\", hex(signature))\n",
        "print(signature.bit_length())"
      ],
      "execution_count": null,
      "outputs": [
        {
          "output_type": "stream",
          "name": "stdout",
          "text": [
            "Signature: 0x14cd53f27a6de789e3be3a3d375396959f89e317b904fdecbc428198e81a68ac193dd05c47fce9b9d28c2348f0c9ff2cb945075c77f1e24967509d31fa69584aa9c09252722502c9c835a1f1acc097ca9dd92c3f6dcef1943afa0151e000c4f7c3d8246567b02b4f62fe3019dbd5b962b1cdb731007f0b315e5313c1abeb30f9\n",
            "Signature: 0x9365853aecafa22800f36d5df526cd7049570a63bafe0ffec05f4bd7ff90d85858bd0be4f92183c1b2acb301c1abdf0faf5dc2a675e70a1a30f5d5c21877784e620448096197df6a5ff8010caa728b945313a2b175e1ea279317555a5db03ee46ed5d3ca9400907beb67624f77b34841201006d3318998a3036256859b257f11\n",
            "Signature: 0x40740f8d1a53fe313d8b9a93a2cde85f3fae11726289198442883fcf5ac0990e460203181d143217cab822e7b4438fd958369010ccde60747536fa92ca51dc1098bfeff261772026263a85fd53e5d35924258efdfa88e5350e5d719127a1fa25b746915b3ad3b717144bb995f6ab264a49db8f82d569b478dd94e13a76fa10ec\n",
            "Signature: 0x5d30f1cbcbc5424dba673ec67fab3708aa039f0a1aba6c00b27ac0435d6e4772ccdd68c00d03dc5eaa512711882c6db3b7c95474353a561df284cb68ce9ae277d2679bb14297587f9d6f58b92381680add72786fb6f086b3f745dc7e72884f0919f1ccef7cb1b3610c1fd9d46eb9c58b1595b687d351ca0e6fedff589092a2ce\n",
            "Signature: 0x325eb720551ca01ab75b02703971edc99e73eb30988a96033560a70a9fc69754761edaff6edaa5faad29b70fcf60db1b1aee804e173ab992b2a93220d15b1988dca315c399a2bef8e522d40dcf24256ced8788bc0e85cab5681769b53f1eb7424f031aa60f8e582ba7724dbb870d7fcc15b354fa90035ee94a9e336afcd30472\n",
            "Signature: 0x966847b4d95d8c453539ee93862c1aec98439ba5fd821fba8b902efce8a2a1cc8cc75b0344c76821e4edf137b80132a02cb4e7e7d8ad8ab73b7cbba06154ed88d491e736de43d4242a7400d40de74ff4ec6a430dda46aedbe8c52ead060adedeea795635d8c47ac50e204a0c6fd0ac58053f5e7c67ae6c78617a2552a64d36b9\n",
            "Signature: 0x6230776a2fef26fbfb5efa66e5f28b5e1bb49c0865f2484e705411e1101c524bcfec5893c839f6f1eb1b2bd49489cf4c0905d29dce1c7616c96b07785d5d7ef50e2562f95236397338a515a8c34e6eede1f24755cd3484133c8d6e685c9afdd9a8a57e2b3f1d99dbc92b25bc23c4a1f21e8fcf5abe37ded35ceb1f8c21920af8\n",
            "Signature: 0x62ee054d01c32eb7c486bfca2784c6afb1b34de30e5e5e94b2a8b873f3086023d1dc443ef351ce701766862a27e4164f34d1e98a7330162372fee3db8ccf6c0ba2e1f6c22396532325ad266a9454d57dd12aeaf90fb97e314f0e623a16d243dab091599c56b0093c22fd1427e4f2ff9538ecb1f2f3bc8a4842278851a0786eb3\n",
            "1023\n"
          ]
        }
      ]
    },
    {
      "cell_type": "code",
      "metadata": {
        "colab": {
          "base_uri": "https://localhost:8080/"
        },
        "id": "hHp4qjElClBI",
        "outputId": "a171155a-9cb7-4f01-cefb-e3105d56384c"
      },
      "source": [
        "## verification of the signatured blocks will be done individually on the blocks.\n",
        "## each verified message is converted to its ASCII string and printed in order to verify \n",
        "## we get the same message as before. In addition to message there is also some decoding on \n",
        "## font and text scaling and font type etc.    \n",
        "ver_list = []\n",
        "for signature in sig_list:\n",
        "  verification = pow(signature,keyPair.e,keyPair.n)\n",
        "  ver_list.append(verification)\n",
        "  print(hex(verification))"
      ],
      "execution_count": null,
      "outputs": [
        {
          "output_type": "stream",
          "name": "stdout",
          "text": [
            "0x87d45a44b8a7bcef064e0edae40f6cb0741168a2ff1e04e5d7f94a7fd7cc151fc4cbc1d261d1953f20c27af8faae9cfb821f31ac30228719d8182d9e63bd7d3ee45f1d66e36ec42afc68f15ece6913981e93c84aae21c688bc933928723b3dbc39a4a4bb3d70413a2c52570ad719313cfd46ef5ee246a9b54b6ca898d2fa2837\n",
            "0x3bef80ba10c5390ebddfcb2e7748c0bf2a3ac245c673438bd86076b787b1a23724b162840298b070c062a2a79216a58defedb010cfc64d0deb8f35c56d46595cba8f3dd06ba82ed999a6351a3946c4fd678f3150d9587432a096ba32f6fd150a0f5eb7fefcdfd56384830222ffdfd42e76e85b1d1466c64a311af373ca8179d8\n",
            "0x4fd33ea4774597d5f43ed335667af4b3e8cbfb42c9746a77baba7b64316b51a7b9c4f56207c112ea86cbcf60a52287c1265b366715eadc7975bca222cfa329c1178ef6ebf9836313527c015fc66bb293db2cd25d05eb87ea4f50d756033fc2f9ef04d9682f875282eb792bf96f7b4fd371cf046bcc7dc12222ea5494bf868420\n",
            "0x2ab8d4c0068ac8965e61cba1937281785d4b96dae19699c647b4c343837f8fb92bfed5a7148eebf9ca0aa541b2f06de4ccb872919a43d9d5a994394f1162ec39b4f51f119489eaddefcfd419461433e724bde2fcc609759effaa8a1641842fc22bfb19a7f12bbd4eddec167d74b6f3e8807f80fa433d4a23ab9522ad07a71431\n",
            "0x35eb54e7a7d96c2ec92a3f8f83ac05d1e9f6bfacf1cf66685500f6b7e587e0377ff398a7f0e3ffbde5951b9c2d9a296c14185bb02b974866153da2d1cad306a7edd3a3f64173a5342c44c36cb602e45a458bcf110de6da2bed3676ec10f4ec72473099677896a8e8800ed2901c33d79e2c2202029bb5509036dc2b6ffefd0ee0\n",
            "0x4867e80b826ae6485367aa331bd44f04c73caa36558b56b03629f682eeff56a553381c17f6df91ed7d651d28cd6e6d9ebafed18534044b22d1ffb957e503a670eb30f99d58113a8208276a582e196b1536b21a963254e62c7730736a8ddd98645624cf5d4a1651645dc10a493eca16ed64121ab62cfcbf1a6685790f121f6545\n",
            "0x38178cea80636a4b1578293454eec28672ef9f29d74c4c04c174fa8821f06086b43c7e4ee732f20faffd7cae240323d446d696873b030a789f7fb319cab25261033eff2c2825896ca34b9cba394e29fedda316785bcd06fae3221f475856cde2b5c7fac462860207fc95b62943bca38a9da98b7ca516c5b936d5b8da73d66bbe\n",
            "0x3c531fd7c925141e276da8b16ebdeb3c24e5cf258f76ab3d30b7bce8d618a6dc7ab3507c56fd6ca87eb16bffaa12f82693272382aff12214e65d64b3ec5c10d317ed3e8ff70fa020e886a77400e8bbe249c7611ad880a3b6527b377338608963250e45033a94d7f57790aaad154e4ed171da1e3c23a120210c3f1f72b3db62fe\n"
          ]
        }
      ]
    },
    {
      "cell_type": "markdown",
      "metadata": {
        "id": "veX_hpnpZHKV"
      },
      "source": [
        "###Extra Credit"
      ]
    }
  ]
}