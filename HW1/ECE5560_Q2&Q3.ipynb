{
  "nbformat": 4,
  "nbformat_minor": 0,
  "metadata": {
    "colab": {
      "name": "ECE5560_Q2&Q3.ipynb",
      "provenance": [],
      "collapsed_sections": []
    },
    "kernelspec": {
      "name": "python3",
      "display_name": "Python 3"
    },
    "language_info": {
      "name": "python"
    }
  },
  "cells": [
    {
      "cell_type": "markdown",
      "metadata": {
        "id": "QauIc92QFWQX"
      },
      "source": [
        "**Question 2** \n",
        "\n",
        "*I. Euler's Totient Function*\n",
        "\n",
        "\n"
      ]
    },
    {
      "cell_type": "code",
      "metadata": {
        "colab": {
          "base_uri": "https://localhost:8080/"
        },
        "id": "nZEXans-GXYr",
        "outputId": "bcfb25a3-e29e-4e1d-fba1-57fbe1568ac1"
      },
      "source": [
        "import math\n",
        "# take user input until the input is an integer  \n",
        "while True:\n",
        "   try:\n",
        "       val = int(input(\"Please enter an integer: \"))\n",
        "       break\n",
        "   except ValueError:\n",
        "       print(\"Your input is not an integer, please try again.\")\n",
        "       continue\n",
        "# counts the number of integers in the range of 1 and \"val\" that have gcd of 1 with the entered value\n",
        "count=0\n",
        "for i in range(0,val):\n",
        "  i=i+1\n",
        "  if math.gcd(i,val)==1:\n",
        "    count=count+1\n",
        "print('The Euler Totient Value of the integer is: ' , count)\n",
        "\n",
        "## are we allowed to use gcd() function since it is a build in function? or are we requred to\n",
        "##find gcd by implementing the Euclidian algorithm for finding gcd?"
      ],
      "execution_count": 55,
      "outputs": [
        {
          "output_type": "stream",
          "name": "stdout",
          "text": [
            "Please enter an integer: 8\n",
            "The Euler Totient Value of the integer is:  4\n"
          ]
        }
      ]
    },
    {
      "cell_type": "markdown",
      "metadata": {
        "id": "C58ggidw0DVu"
      },
      "source": [
        "II. Miller-Robin Algorithm\n",
        "\n"
      ]
    },
    {
      "cell_type": "code",
      "metadata": {
        "id": "Tb8Fpo3sCHx-"
      },
      "source": [
        "import random\n",
        "\n",
        "# n is the number\n",
        "# e is the error margin given by the user \n",
        "def miller_rabin(n, e):\n",
        "# If number is even, it's a composite number\n",
        "#The base cases for n<3 are consired below. \n",
        "  if n == 2 or n == 3:\n",
        "    return True\n",
        "  if n % 2 == 0:\n",
        "    print('n is even')\n",
        "    return False\n",
        "  if n == 1:\n",
        "    return False \n",
        "# first, d is found by dividing n-1 repedeatly until we are left with an odd number.\n",
        "  r = 0 \n",
        "  d=n-1\n",
        "  while d % 2 == 0:\n",
        "      r = r + 1\n",
        "      d = int(d/2)\n",
        " ##witnessloop  \n",
        " # this loops runs for k times,\n",
        " #for each round we have error probablity if assigning n as a prime number falsely is\n",
        " #(1/4)^j. Hence after k rounds the toal probability of making an error is\n",
        " #((1/4))^(j^2). This should be less or equal to the error margin given by the user. \n",
        "  e=e/100\n",
        "  #starting from j=1 we will increase j until to the point where pow(0.25,pow(j,2)) <= e\n",
        "  # so we can use j+1 as the count of loops to guarantee an error margin less than the user enters.\n",
        "  # so we use the min possible count number actually.\n",
        "  j=1\n",
        "  while pow(0.25,pow(j,2)) > e:\n",
        "    j=j+1\n",
        "  #print('j is :', j)\n",
        "  for i in range(j+1):\n",
        "    a = random.randint(2, n - 1);\n",
        "    x = pow(a, d)%n\n",
        "    if x == 1 or x == n - 1:\n",
        "      continue\n",
        "    for j in range(r - 1):\n",
        "      x = (x * x) % n\n",
        "      if x == n - 1:\n",
        "        break\n",
        "      else:\n",
        "        return False , a\n",
        "    return True\n",
        "\n",
        "\n",
        "\n",
        "\n",
        "### For error to be less than 0.01% means\n",
        "# 0.01% = 10^-4. Out of 1 experiment among 10000 is wrong. \n",
        "# We want error to be less than 10^-4 To achieve this;\n",
        "# (1/4)^(t^2) where t is the number of different 'a' values we try, (1/4)^(t^2) < 10^-4. Therefore t must be equal or larger then 3.\n",
        "# To achieve the given error margin we should try at least 3 different values of a for each n given."
      ],
      "execution_count": 76,
      "outputs": []
    },
    {
      "cell_type": "code",
      "metadata": {
        "colab": {
          "base_uri": "https://localhost:8080/"
        },
        "id": "PwGXGs4mKuqs",
        "outputId": "19524bef-76c2-4f14-9afc-2063eaffc58c"
      },
      "source": [
        "#driver code, get n and error margin from the user\n",
        "while True:\n",
        "   try:\n",
        "       n = int(input(\"Please enter an integer to check its primality: \"))\n",
        "       e = float(input(\"Please enter the error margin as integer and in the form of e%, for instance entering 0.1 means 0.1% error margin: \"))\n",
        "       break\n",
        "   except ValueError:\n",
        "       print(\"Your input is not an integer, please try again.\")\n",
        "       continue\n",
        "\n",
        "miller_rabin(n,e)\n"
      ],
      "execution_count": 78,
      "outputs": [
        {
          "name": "stdout",
          "output_type": "stream",
          "text": [
            "Please enter an integer to check its primality: 9\n",
            "Please enter the error margin as integer and in the form of e%, for instance entering 0.1 means 0.1% error margin: 0.01\n"
          ]
        },
        {
          "output_type": "execute_result",
          "data": {
            "text/plain": [
              "(False, 7)"
            ]
          },
          "metadata": {},
          "execution_count": 78
        }
      ]
    },
    {
      "cell_type": "markdown",
      "metadata": {
        "id": "NvTa7-QWQEuc"
      },
      "source": [
        "**Question 3**\n",
        "Hill-Cypher Algorithm\n"
      ]
    },
    {
      "cell_type": "markdown",
      "metadata": {
        "id": "J2Jpt4wQhFof"
      },
      "source": [
        "a)[20 pts] Implement the Hill Cipher for n=2 and 3 (i.e. 2x2 and 3x3 Hill Ciphers)\n",
        " "
      ]
    },
    {
      "cell_type": "code",
      "metadata": {
        "id": "LtpL2ZSBNVfS"
      },
      "source": [
        "\n",
        "import numpy as np\n",
        "import random\n",
        "import string\n",
        "from sympy import Matrix\n",
        "# All functions used for the question;\n",
        "\n",
        "# divide_message gets input string and returns a list of arrays divides the string in the arrays with lengths of 2 or 3,\n",
        "# depending on the size of the key matrix.\n",
        "# each array consists of unicode code value  of the character.\n",
        "# It is implicitly assumed that the input will be divisible by 2 or 3 depending on the size of the key matrix. \n",
        "# for instance; if input is string is 'DENIZE', the output will be;\n",
        "# (array[(3, 4)], array[(13,8)], array[(25,4)]) 1st array corresponds to DE,2nd is NI and last is Z and E.\n",
        "# when we use the ord() function with % 65, we get the desired mapping for letters and integers for Hill-Cypher Algorithm.\n",
        "# If t=2 message is divided into 2 length arrays for 2x2 key matrix and if t=3 message is divided into 3 length arrays for 3x3 key matrix.  \n",
        "def divide_message(messageVector, t):\n",
        "  split_strings = []\n",
        "  newarr=[]\n",
        "  n  = 1\n",
        "  for index in range(0, len(messageVector), n):\n",
        "    split_strings.append(messageVector[index : index + n])\n",
        "  for k in range(0, len(split_strings)):\n",
        "    newarr.append((ord(split_strings[k]) % 65))\n",
        "  message = np.array_split(newarr, (len(newarr))/t)\n",
        "  return(message)\n",
        "\n",
        "# this function gets the output of the divide_message, a list of the vectors of length 2 or 3, and performs\n",
        "# matrix multiplication with the key matrix. The output is the cipher matrix which is the encrypted message in integer form.\n",
        "# 'a' is the output of the divide_message function, key is the key matrix.\n",
        "def encrypt(a,key):\n",
        "  cipherMatrix = []\n",
        "  for i in range(0,len(a)):\n",
        "    for j in range(0,len(key)):\n",
        "      cipherMatrix.append(np.dot(key[j],a[i]))\n",
        "\n",
        "  for i in range(0, len(cipherMatrix)):\n",
        "    cipherMatrix[i] = cipherMatrix[i] % 26\n",
        "  return cipherMatrix\n",
        "\n",
        "# this function is used for getting the cipher matrix in the integer form\n",
        "# and return its ciphertext in the string form by using unicode. \n",
        "def letterencrypt(cipherMatrix):\n",
        "  arr=[]\n",
        "  for i in range(0, len(cipherMatrix)):\n",
        "    arr.append(chr(cipherMatrix[i] + 65))\n",
        "  separator = ''\n",
        "  return separator.join(arr)\n",
        "\n",
        "## this function is used for finding the inverse of the matrix in modulo 26.\n",
        "def decrypt(key):\n",
        "  ##inverse matrix of key is P(it is in double type.)\n",
        "  inverse_key = Matrix(key). inv_mod(26)\n",
        "  inverse_key = np.array(inverse_key) #symp to numpy\n",
        "  inverse_key=inverse_key.astype(int)\n",
        "  return inverse_key\n"
      ],
      "execution_count": 43,
      "outputs": []
    },
    {
      "cell_type": "code",
      "metadata": {
        "colab": {
          "base_uri": "https://localhost:8080/"
        },
        "id": "q6k8-X69dlMP",
        "outputId": "962f14f9-cf1c-4da2-d952-1c9ee39aef1d"
      },
      "source": [
        "#get the plaintext from the user\n",
        "while True:\n",
        "    try:\n",
        "        # Note: Python 2.x users should use raw_input, the equivalent of 3.x's input\n",
        "        message = input(\"Please enter the message you want to encrypt: \")\n",
        "    except ValueError:\n",
        "        print(\"Sorry, I didn't understand that.\")\n",
        "        #better try again... Return to the start of the loop\n",
        "        continue\n",
        "    else:\n",
        "        #message was successfully parsed!\n",
        "        #we're ready to exit the loop.\n",
        "        break\n",
        "# the operations later are done by implicitly assuming that the plaintext is all uppercase,\n",
        "# so I uppercased the input message and keep in the variable 'low' whether it was given in upper case or in lowercase. \n",
        "low=False\n",
        "if message.islower():\n",
        "    low=message.islower()\n",
        "    print(low)\n",
        "    message=message.upper()\n",
        "    \n",
        "print('message is: ', message)\n"
      ],
      "execution_count": 41,
      "outputs": [
        {
          "output_type": "stream",
          "name": "stdout",
          "text": [
            "Please enter the message you want to encrypt: denizaytemiz\n",
            "True\n",
            "message is:  DENIZAYTEMIZ\n"
          ]
        }
      ]
    },
    {
      "cell_type": "code",
      "metadata": {
        "colab": {
          "base_uri": "https://localhost:8080/"
        },
        "id": "Hf-heJ9t5XVv",
        "outputId": "5e8f25a0-c8b4-4479-e9f6-4f72e1be7bd1"
      },
      "source": [
        "# Driver code\n",
        "#The below code block is for encrypting the plaintext and getting the ciphertext.\n",
        "#key matrix is assumed to be 2x2\n",
        "# For encryption\n",
        "\n",
        "\n",
        "#divide the plaintext by 2 by 2 and store the resulting list in variable  'a'\n",
        "a= divide_message(message,2)\n",
        "# assuming the key matrix is given below, it is crucial that it can is invertable.\n",
        "key=[(5, 2),(-7, -3)]\n",
        "#we do the following operation for every element in 'a': Cipher=Key*a[i]\n",
        "#cipher is the ciphermatrix\n",
        "cipher = encrypt(a,key)\n",
        "# Now in order to find the letter counterpart of the encryption, we use letterencrypt function and get the ciphertext.\n",
        "ciphertext= letterencrypt(cipher)\n",
        "print('The ciphertext for the plaintext', message,' is:')\n",
        "print(ciphertext)\n",
        "\n",
        "\n",
        "\n"
      ],
      "execution_count": 44,
      "outputs": [
        {
          "output_type": "stream",
          "name": "stdout",
          "text": [
            "The ciphertext for the plaintext DENIZAYTEMIZ  is:\n",
            "XTDPVHCJSOMZ\n"
          ]
        }
      ]
    },
    {
      "cell_type": "code",
      "metadata": {
        "colab": {
          "base_uri": "https://localhost:8080/"
        },
        "id": "3xuprqZ2gIPw",
        "outputId": "11f0faa7-1ff5-4515-9ec6-7db6a149f03a"
      },
      "source": [
        "#Driver code\n",
        "#The below code block is for decrypting the ciphertext and getting the plaintext message entered by the user back.\n",
        "#the same values for ciphertext, plaintext and key matrix is used.\n",
        "#For decryption\n",
        "\n",
        "a= divide_message(ciphertext,2)\n",
        "\n",
        "#we take the inverse of the key matrix in modulo 26\n",
        "print('inverse key matrix is:')\n",
        "inv_K=decrypt(key)\n",
        "print(inv_K)\n",
        "\n",
        "#this resulting matrix is the output of: decrypted=inv(key)*a[i] in modulo 26.\n",
        "#the resulting is the plaintext user gives in ciphermatrix form.\n",
        "decrypted = encrypt(a,inv_K)\n",
        "\n",
        "#we get the original plaintext string by converting the cipher matrix to string form\n",
        "original=letterencrypt(decrypted)\n",
        "#if the original plaintext entered was in lowercase we return the plaintext as lowercase too,\n",
        "#so it is the exact same plaintext.\n",
        "if low:\n",
        "  original=original.lower()\n",
        "print('original message is:')\n",
        "print(original)\n"
      ],
      "execution_count": 45,
      "outputs": [
        {
          "output_type": "stream",
          "name": "stdout",
          "text": [
            "inverse key matrix is:\n",
            "[[ 3  2]\n",
            " [19 21]]\n",
            "original message is:\n",
            "denizaytemiz\n"
          ]
        }
      ]
    },
    {
      "cell_type": "code",
      "metadata": {
        "colab": {
          "base_uri": "https://localhost:8080/"
        },
        "id": "jNUJEX01q7JA",
        "outputId": "b5a1d0b6-a004-4d24-82d1-71e3119fbc77"
      },
      "source": [
        "##now the same operations will be done with 3x3 key matrix:\n",
        "\n",
        "#get the plaintext from the user\n",
        "while True:\n",
        "    try:\n",
        "        # Note: Python 2.x users should use raw_input, the equivalent of 3.x's input\n",
        "        message = input(\"Please enter the message you want to encrypt: \")\n",
        "    except ValueError:\n",
        "        print(\"Sorry, I didn't understand that.\")\n",
        "        #better try again... Return to the start of the loop\n",
        "        continue\n",
        "    else:\n",
        "        #message was successfully parsed!\n",
        "        #we're ready to exit the loop.\n",
        "        break\n",
        "# the operations later are done by implicitly assuming that the plaintext is all uppercase,\n",
        "# so I uppercased the input message and keep in the variable 'low' whether it was given in upper case or in lowercase. \n",
        "low=False\n",
        "if message.islower():\n",
        "    low=message.islower()\n",
        "    print(low)\n",
        "    message=message.upper()\n",
        "    \n",
        "print('message is: ', message)\n"
      ],
      "execution_count": 46,
      "outputs": [
        {
          "output_type": "stream",
          "name": "stdout",
          "text": [
            "Please enter the message you want to encrypt: denizaytemiz\n",
            "True\n",
            "message is:  DENIZAYTEMIZ\n"
          ]
        }
      ]
    },
    {
      "cell_type": "code",
      "metadata": {
        "colab": {
          "base_uri": "https://localhost:8080/"
        },
        "id": "CptgqSWKrH9i",
        "outputId": "a6ce0d79-002a-4c25-a006-fd9047932213"
      },
      "source": [
        "# Driver code\n",
        "#The below code block is for encrypting the plaintext and getting the ciphertext.\n",
        "#key matrix is assumed to be 3x3\n",
        "# For encryption\n",
        "\n",
        "\n",
        "#divide the plaintext by 3 by 3 and store the resulting list in variable  'a'\n",
        "a= divide_message(message,3)\n",
        "# assuming the key matrix is given below, it is crucial that it can is invertable.\n",
        "key=[(1, 2, 3),(0, 1,4),(5,6,0)]\n",
        "#we do the following operation for every element in 'a': Cipher=Key*a[i]\n",
        "#cipher is the ciphermatrix\n",
        "cipher = encrypt(a,key)\n",
        "# Now in order to find the letter counterpart of the encryption, we use letterencrypt function and get the ciphertext.\n",
        "ciphertext= letterencrypt(cipher)\n",
        "print('The ciphertext for the plaintext', message,' is:')\n",
        "print(ciphertext)\n",
        "\n",
        "\n"
      ],
      "execution_count": 47,
      "outputs": [
        {
          "output_type": "stream",
          "name": "stdout",
          "text": [
            "The ciphertext for the plaintext DENIZAYTEMIZ  is:\n",
            "YENGZIWJAZEE\n"
          ]
        }
      ]
    },
    {
      "cell_type": "code",
      "metadata": {
        "colab": {
          "base_uri": "https://localhost:8080/"
        },
        "id": "8BMibT35reCe",
        "outputId": "031de93d-38b9-43e3-fe33-93d0a269a21a"
      },
      "source": [
        "#Driver code\n",
        "#The below code block is for decrypting the ciphertext and getting the plaintext message entered by the user back.\n",
        "#the same values for ciphertext, plaintext and key matrix is used.\n",
        "#For decryption\n",
        "\n",
        "a= divide_message(ciphertext,3)\n",
        "\n",
        "#we take the inverse of the key matrix in modulo 26\n",
        "print('inverse key matrix is:')\n",
        "inv_K=decrypt(key)\n",
        "print(inv_K)\n",
        "\n",
        "#this resulting matrix is the output of: decrypted=inv(key)*a[i] in modulo 26.\n",
        "#the resulting is the plaintext user gives in ciphermatrix form.\n",
        "decrypted = encrypt(a,inv_K)\n",
        "\n",
        "#we get the original plaintext string by converting the cipher matrix to string form\n",
        "original=letterencrypt(decrypted)\n",
        "#if the original plaintext entered was in lowercase we return the plaintext as lowercase too,\n",
        "#so it is the exact same plaintext.\n",
        "if low:\n",
        "  original=original.lower()\n",
        "print('original message is:')\n",
        "print(original)\n"
      ],
      "execution_count": 48,
      "outputs": [
        {
          "output_type": "stream",
          "name": "stdout",
          "text": [
            "inverse key matrix is:\n",
            "[[ 2 18  5]\n",
            " [20 11 22]\n",
            " [21  4  1]]\n",
            "original message is:\n",
            "denizaytemiz\n"
          ]
        }
      ]
    },
    {
      "cell_type": "markdown",
      "metadata": {
        "id": "jQzpKgIeg_Ko"
      },
      "source": [
        "b)Create software that can perform a fast known plaintext attack on a Hill cipher, given the dimension n of the Hill Cipher. How fast are your algorithms, as a function of n?\n"
      ]
    },
    {
      "cell_type": "code",
      "metadata": {
        "id": "HoqeZLlZ5hGU"
      },
      "source": [
        "## plain text attack for 2x2  key matrix\n",
        "import math\n",
        "#we divide the plaintext message to 2 -lengthed vectors to do matrix multiplication later on.\n",
        "\n",
        "# We know K*P=C, where K is key matrix, P is plaintext and C is ciphertext.\n",
        "# invertablematrix function creates a 2x2  plaintext matrix that is invertable. \n",
        "# for instance; assuming plain text=howaand we are using 2x2 key matrix, the corresponding plaintext matrix will be\n",
        "# [(7,22),(14,0)] corresponding to [(h,w),(o,a)]\n",
        "# Key matrix will be found by K=C*inv(P) (mod 26). We try to figure out a suitable P for this operation.\n",
        "# For P matrix to be invertable its determinant should be relatively prime with 26.\n",
        "#In this function we concatenate any 2 length vectors of plaintext with\n",
        "# other parts of the plaintext message until we obtain a 2x2 invertable matrix. The invertable matrix and the index's of the \n",
        "#vectors are outputted.\n",
        "def invertablematrix1(plaintext):\n",
        "  P=np.array(divide_message(plaintext,2))\n",
        "  l=len(P)\n",
        "  for i in range(0,l):\n",
        "    for j in range(1,l):\n",
        "      new_P = np.concatenate((P[i],P[j]),axis=0)\n",
        "      new_P = new_P.reshape(2,2)\n",
        "      new_P = np.transpose(new_P)\n",
        "      print('')\n",
        "      print(new_P)\n",
        "      print('')\n",
        "      det=round(np.linalg.det(new_P))\n",
        "      print('determinant :',det)\n",
        "    if math.gcd(det,26) == 1:\n",
        "      print('this is invertable. ')\n",
        "     # print(new_P)\n",
        "      return new_P, i, j\n",
        "    else:\n",
        "      print('this is not invertable')\n",
        "# The keyMatrix function gets the invertable matrix(B) which is the plaintext matrix and the i and j as the inputs.\n",
        "# The  respective cipher matrix C corresponding to the plaintext matrix B is created and\n",
        "# by taking the inverse of B, the following operation is being done:\n",
        "# A=C*inv(B)in mod 26. Since we know inv(B) and C, we can figure out the key matrix(A)\n",
        "def keyMatrix1(B,i, j):\n",
        "  C=np.array(divide_message(ciphertext,2))\n",
        "  new_C = np.concatenate((C[i],C[j]),axis=0)\n",
        "  new_C = new_C.reshape(2,2)\n",
        "  C = np.transpose(new_C)\n",
        "  print('corresponding cipher matrix is:')\n",
        "  print(C)\n",
        "  invB=decrypt(B)\n",
        "  A = np.matmul(C,invB)\n",
        "  A = A%26\n",
        "  print('the key matrix:')\n",
        "  return A"
      ],
      "execution_count": 49,
      "outputs": []
    },
    {
      "cell_type": "code",
      "metadata": {
        "colab": {
          "base_uri": "https://localhost:8080/"
        },
        "id": "d1NhU7MXy81M",
        "outputId": "4ee3a30a-3788-41e0-c53b-fc260cdbd006"
      },
      "source": [
        "#Driver code\n",
        "#for 2x2 key matrix\n",
        "#In the known plaintext attacks; we assume that we know the partial of plaintext, and the corresponding ciphertext and the size of the key matrix.\n",
        "#Assume that the ciphertext and part of the plaintext we know are as below. \n",
        "import time\n",
        "ciphertext='ZWSENIUSPLJVEULNVP'\n",
        "plaintext='HOWAREYOUTOD'\n",
        "# We  gonna try to find the key matrix and decrypt the ciphertext message, in order to get\n",
        "# the full plaintext message.\n",
        "# variables tic&toc is for keeping the time of execution.\n",
        "tic = time.perf_counter()\n",
        "#we find the invertable plaintext matrix and the corresponding indeces\n",
        "B, i, j = invertablematrix1(plaintext)\n",
        "#Now using the keyMatrix function, it is possible to determine the key matrix used for the encryption.\n",
        "print('')\n",
        "print('The key matrix is:')\n",
        "key=keyMatrix1(B,i, j)\n",
        "print(key)\n",
        "#Driver code\n",
        "#For decryption\n",
        "#Since we know the key matrix we can use decryption on the ciphertext as we did in the part a of the question.\n",
        "#And get the full of the plaintext.\n",
        "\n",
        "print('The integer counterpart of the ciphertext is given:')\n",
        "print(divide_message(ciphertext,2))\n",
        "a= divide_message(plaintext,2)\n",
        "print('')\n",
        "print('Lets find the inverse of the 2x2 key matrix by decrypt function: ')\n",
        "inv_K=decrypt(key)\n",
        "print(inv_K)\n",
        "print('')\n",
        "print('Now,we decrypt the ciphertext with  multiplying the inverse key matrix and the cipher matrix.')\n",
        "print('')\n",
        "print('The output of the multiplication is as follows:')\n",
        "C=divide_message(ciphertext,2)\n",
        "print(encrypt(C,inv_K))\n",
        "print('')\n",
        "print('Now in order to find the letter counterpart of the encryption(unicode), we use letterencrypt function:')\n",
        "decrypted = encrypt(C,inv_K)\n",
        "print('')\n",
        "print(decrypted)\n",
        "print('')\n",
        "print('The full version of the plaintext message is:')\n",
        "print(letterencrypt(decrypted))\n",
        "toc =time.perf_counter()\n",
        "print('The time it took to execute the code for 2x2 key matrix is:')\n",
        "print(toc-tic)"
      ],
      "execution_count": 9,
      "outputs": [
        {
          "output_type": "stream",
          "name": "stdout",
          "text": [
            "\n",
            "[[ 7 22]\n",
            " [14  0]]\n",
            "\n",
            "determinant : -308\n",
            "\n",
            "[[ 7 17]\n",
            " [14  4]]\n",
            "\n",
            "determinant : -210\n",
            "\n",
            "[[ 7 24]\n",
            " [14 14]]\n",
            "\n",
            "determinant : -238\n",
            "\n",
            "[[ 7 20]\n",
            " [14 19]]\n",
            "\n",
            "determinant : -147\n",
            "\n",
            "[[ 7 14]\n",
            " [14  3]]\n",
            "\n",
            "determinant : -175\n",
            "this is invertable. \n",
            "\n",
            "The key matrix is:\n",
            "corresponding cipher matrix is:\n",
            "[[25  9]\n",
            " [22 21]]\n",
            "the key matrix:\n",
            "[[15 11]\n",
            " [12  3]]\n",
            "The integer counterpart of the ciphertext is given:\n",
            "[array([25, 22]), array([18,  4]), array([13,  8]), array([20, 18]), array([15, 11]), array([ 9, 21]), array([ 4, 20]), array([11, 13]), array([21, 15])]\n",
            "\n",
            "Lets find the inverse of the 2x2 key matrix by decrypt function: \n",
            "[[17  7]\n",
            " [10  7]]\n",
            "\n",
            "Now,we decrypt the ciphertext with  multiplying the inverse key matrix and the cipher matrix.\n",
            "\n",
            "The output of the multiplication is as follows:\n",
            "[7, 14, 22, 0, 17, 4, 24, 14, 20, 19, 14, 3, 0, 24, 18, 19, 20, 3]\n",
            "\n",
            "Now in order to find the letter counterpart of the encryption(unicode), we use letterencrypt function:\n",
            "\n",
            "[7, 14, 22, 0, 17, 4, 24, 14, 20, 19, 14, 3, 0, 24, 18, 19, 20, 3]\n",
            "\n",
            "The full version of the plaintext message is:\n",
            "HOWAREYOUTODAYSTUD\n",
            "The time it took to execute the code for 2x2 key matrix is:\n",
            "0.013643569000123534\n"
          ]
        }
      ]
    },
    {
      "cell_type": "code",
      "metadata": {
        "id": "L_LVkhUUzk2Y"
      },
      "source": [
        "## plain text attack for 3x3  key matrix\n",
        "import math\n",
        "#we divide the plaintext message to 3 -lengthed vectors to do matrix multiplication later on.\n",
        "\n",
        "# We know K*P=C, where K is key matrix, P is plaintext and C is ciphertext.\n",
        "# invertablematrix function creates a 3x3  plaintext matrix that is invertable. \n",
        "# for instance; assuming plain text=howaand we are using 3x3 key matrix, the corresponding plaintext matrix will be\n",
        "# Key matrix will be found by K=C*inv(P) (mod 26). We try to figure out a suitable P for this operation.\n",
        "# For P matrix to be invertable its determinant should be relatively prime with 26.\n",
        "#In this function we concatenate any 3 length vectors of plaintext with\n",
        "# other parts of the plaintext message until we obtain a 3x3 invertable matrix. The invertable matrix and the index's of the \n",
        "#vectors are outputted.\n",
        "def invertablematrix2(plaintext):\n",
        "  P=np.array(divide_message(plaintext,3))\n",
        "  l=len(P)\n",
        "  for i in range(0,l):\n",
        "    for j in range(1,l):\n",
        "      for m in range(2,l):\n",
        "        new_P = np.concatenate((P[i],P[j],P[m]),axis=0)\n",
        "        new_P = new_P.reshape(3,3)\n",
        "        new_P = np.transpose(new_P)\n",
        "        print('')\n",
        "        print(new_P)\n",
        "        print('')\n",
        "        det=round(np.linalg.det(new_P))\n",
        "        print('determinant :',det)\n",
        "      if math.gcd(det,26) == 1:\n",
        "        print('this is invertable. ')\n",
        "        # print(new_P)\n",
        "        return new_P, i, j,m\n",
        "      else:\n",
        "        print('this is not invertable')\n",
        "# The keyMatrix function gets the invertable matrix(B) which is the plaintext matrix and the i and j as the inputs.\n",
        "# The  respective cipher matrix C corresponding to the plaintext matrix B is created and\n",
        "# by taking the inverse of B, the following operation is being done:\n",
        "# A=C*inv(B)in mod 26. Since we know inv(B) and C, we can figure out the key matrix(A)\n",
        "def keyMatrix2(B,i, j,m):\n",
        "  C=np.array(divide_message(ciphertext,3))\n",
        "  new_C = np.concatenate((C[i],C[j],C[m]),axis=0)\n",
        "  new_C = new_C.reshape(3,3)\n",
        "  C = np.transpose(new_C)\n",
        "  print('corresponding cipher matrix is:')\n",
        "  print(C)\n",
        "  invB=decrypt(B)\n",
        "  A = np.matmul(C,invB)\n",
        "  A = A%26\n",
        "  print('the key matrix:')\n",
        "  return A"
      ],
      "execution_count": 52,
      "outputs": []
    },
    {
      "cell_type": "code",
      "metadata": {
        "colab": {
          "base_uri": "https://localhost:8080/"
        },
        "id": "L0ubJwfwp5NX",
        "outputId": "db469079-66a7-4725-d736-b3d6435f9abb"
      },
      "source": [
        "#Driver code\n",
        "#for 3x3 key matrix\n",
        "#In the known plaintext attacks; we assume that we know the partial of plaintext, and the corresponding ciphertext and the size of the key matrix.\n",
        "#Assume that the ciphertext and part of the plaintext we know are as below. \n",
        "import time\n",
        "ciphertext='ZWSENIUSPLJVEULNVP'\n",
        "plaintext='HOWAREYOUTOD'\n",
        "# We  gonna try to find the key matrix and decrypt the ciphertext message, in order to get\n",
        "# the full plaintext message.\n",
        "# variables tic&toc is for keeping the time of execution.\n",
        "tic = time.perf_counter()\n",
        "#we find the invertable plaintext matrix and the corresponding indeces\n",
        "B, i, j,m = invertablematrix2(plaintext)\n",
        "#Now using the keyMatrix function, it is possible to determine the key matrix used for the encryption.\n",
        "print('')\n",
        "print('The key matrix is:')\n",
        "key=keyMatrix2(B,i, j,m)\n",
        "print(key)\n",
        "\n",
        "#Driver code\n",
        "#For decryption\n",
        "#Since we know the key matrix we can use decryption on the ciphertext as we did in the part a of the question.\n",
        "#And get the full of the plaintext.\n",
        "\n",
        "print('The integer counterpart of the ciphertext is given:')\n",
        "print(divide_message(ciphertext,3))\n",
        "a= divide_message(plaintext,3)\n",
        "print('')\n",
        "print('Lets find the inverse of the 3x3 key matrix by decrypt function: ')\n",
        "inv_K=decrypt(key)\n",
        "print(inv_K)\n",
        "print('')\n",
        "print('Now,we decrypt the ciphertext with  multiplying the inverse key matrix and the cipher matrix.')\n",
        "print('')\n",
        "print('The output of the multiplication is as follows:')\n",
        "C=divide_message(ciphertext,3)\n",
        "print(encrypt(C,inv_K))\n",
        "print('')\n",
        "print('Now in order to find the letter counterpart of the encryption(unicode), we use letterencrypt function:')\n",
        "decrypted = encrypt(C,inv_K)\n",
        "print('')\n",
        "print(decrypted)\n",
        "print('')\n",
        "print('The full version of the plaintext message is:')\n",
        "print(letterencrypt(decrypted))\n",
        "toc =time.perf_counter()\n",
        "print('The time it took to execute the code for 3x3 key matrix is:')\n",
        "print(toc-tic)"
      ],
      "execution_count": 54,
      "outputs": [
        {
          "output_type": "stream",
          "name": "stdout",
          "text": [
            "\n",
            "[[ 7  0 24]\n",
            " [14 17 14]\n",
            " [22  4 20]]\n",
            "\n",
            "determinant : -5644\n",
            "\n",
            "[[ 7  0 19]\n",
            " [14 17 14]\n",
            " [22  4  3]]\n",
            "\n",
            "determinant : -6077\n",
            "this is invertable. \n",
            "\n",
            "The key matrix is:\n",
            "corresponding cipher matrix is:\n",
            "[[25  4 11]\n",
            " [22 13  9]\n",
            " [18  8 21]]\n",
            "the key matrix:\n",
            "[[17  8  6]\n",
            " [10 19  7]\n",
            " [ 2 18 23]]\n",
            "The integer counterpart of the ciphertext is given:\n",
            "[array([25, 22, 18]), array([ 4, 13,  8]), array([20, 18, 15]), array([11,  9, 21]), array([ 4, 20, 11]), array([13, 21, 15])]\n",
            "\n",
            "Lets find the inverse of the 3x3 key matrix by decrypt function: \n",
            "[[ 3 20 18]\n",
            " [24  7 21]\n",
            " [16 12 25]]\n",
            "\n",
            "Now,we decrypt the ciphertext with  multiplying the inverse key matrix and the cipher matrix.\n",
            "\n",
            "The output of the multiplication is as follows:\n",
            "[7, 14, 22, 0, 17, 4, 14, 11, 1, 19, 14, 3, 12, 25, 7, 1, 20, 3]\n",
            "\n",
            "Now in order to find the letter counterpart of the encryption(unicode), we use letterencrypt function:\n",
            "\n",
            "[7, 14, 22, 0, 17, 4, 14, 11, 1, 19, 14, 3, 12, 25, 7, 1, 20, 3]\n",
            "\n",
            "The full version of the plaintext message is:\n",
            "HOWAREOLBTODMZHBUD\n",
            "The time it took to execute the code for 3x3 key matrix is:\n",
            "0.01132937900001707\n"
          ]
        }
      ]
    },
    {
      "cell_type": "markdown",
      "metadata": {
        "id": "nl71kKRZ2IBd"
      },
      "source": [
        "I believe the reason I could not recover the plaintext completely true is that, the key matrix we found is not used for encryting this message. However it still satifies the initial matrix multiplication. As you see the recovered parts from the message HOWARE and TOD is correct. Which means there are multiple K's for satisfying C=K*P, and the one we select in particular was not the one that is used for encryption.\n",
        "\n"
      ]
    }
  ]
}